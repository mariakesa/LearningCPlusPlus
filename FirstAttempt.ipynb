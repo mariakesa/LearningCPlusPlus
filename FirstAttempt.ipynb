{
 "cells": [
  {
   "cell_type": "code",
   "execution_count": 1,
   "metadata": {},
   "outputs": [
    {
     "name": "stdout",
     "output_type": "stream",
     "text": [
      "Hello world, I am ready for C++"
     ]
    },
    {
     "data": {
      "text/plain": [
       "0"
      ]
     },
     "execution_count": 1,
     "metadata": {},
     "output_type": "execute_result"
    }
   ],
   "source": [
    "/*Run c++ code in jupyter notebook https://www.learnopencv.com/xeus-cling-run-c-code-in-jupyter-notebook/*/\n",
    "#include <iostream>\n",
    "int main() \n",
    " {\n",
    "      std::cout << \"Hello world, I am ready for C++\";\n",
    "      return 0;\n",
    "  }\n",
    "main()"
   ]
  },
  {
   "cell_type": "code",
   "execution_count": 2,
   "metadata": {},
   "outputs": [],
   "source": [
    "struct range {\n",
    "    int x;\n",
    "    int y;\n",
    "};\n",
    "\n",
    "range r={1,2};"
   ]
  },
  {
   "cell_type": "code",
   "execution_count": 3,
   "metadata": {},
   "outputs": [],
   "source": [
    "r.x;"
   ]
  },
  {
   "cell_type": "code",
   "execution_count": 4,
   "metadata": {},
   "outputs": [
    {
     "name": "stdout",
     "output_type": "stream",
     "text": [
      "1"
     ]
    }
   ],
   "source": [
    "std::cout << r.x;"
   ]
  },
  {
   "cell_type": "code",
   "execution_count": 8,
   "metadata": {},
   "outputs": [
    {
     "name": "stderr",
     "output_type": "stream",
     "text": [
      "\u001b[1minput_line_19:1:14: \u001b[0m\u001b[0;1;31merror: \u001b[0m\u001b[1mredefinition of 'add'\u001b[0m\n",
      "int xstruct::add(int a, int b) {\n",
      "\u001b[0;1;32m             ^\n",
      "\u001b[0m\u001b[1minput_line_16:4:9: \u001b[0m\u001b[0;1;30mnote: \u001b[0mprevious definition is here\u001b[0m\n",
      "    int add(int a, int b) {\n",
      "\u001b[0;1;32m        ^\n",
      "\u001b[0m\u001b[1minput_line_19:5:9: \u001b[0m\u001b[0;1;31merror: \u001b[0m\u001b[1mredefinition of 'xstruct'\u001b[0m\n",
      " struct xstruct {\n",
      "\u001b[0;1;32m        ^\n",
      "\u001b[0m\u001b[1minput_line_16:1:8: \u001b[0m\u001b[0;1;30mnote: \u001b[0mprevious definition is here\u001b[0m\n",
      "struct xstruct {\n",
      "\u001b[0;1;32m       ^\n",
      "\u001b[0m"
     ]
    },
    {
     "ename": "Interpreter Error",
     "evalue": "",
     "output_type": "error",
     "traceback": [
      "Interpreter Error: "
     ]
    }
   ],
   "source": [
    "\n",
    "struct xstruct {\n",
    "    int x;\n",
    "    int y;\n",
    "    int add(int a, int b) {\n",
    "       return a + b; \n",
    "    }\n",
    "};"
   ]
  },
  {
   "cell_type": "code",
   "execution_count": 6,
   "metadata": {},
   "outputs": [],
   "source": [
    "struct ystruct {\n",
    "    int x;\n",
    "    int y;\n",
    "    int add2(int a, int b);\n",
    "};"
   ]
  },
  {
   "cell_type": "code",
   "execution_count": 7,
   "metadata": {},
   "outputs": [
    {
     "name": "stderr",
     "output_type": "stream",
     "text": [
      "\u001b[1minput_line_18:1:14: \u001b[0m\u001b[0;1;31merror: \u001b[0m\u001b[1mredefinition of 'add'\u001b[0m\n",
      "int xstruct::add(int a, int b) {\n",
      "\u001b[0;1;32m             ^\n",
      "\u001b[0m\u001b[1minput_line_16:4:9: \u001b[0m\u001b[0;1;30mnote: \u001b[0mprevious definition is here\u001b[0m\n",
      "    int add(int a, int b) {\n",
      "\u001b[0;1;32m        ^\n",
      "\u001b[0m"
     ]
    },
    {
     "ename": "Interpreter Error",
     "evalue": "",
     "output_type": "error",
     "traceback": [
      "Interpreter Error: "
     ]
    }
   ],
   "source": [
    "\n",
    "int xstruct::add(int a, int b) {\n",
    "  return a + b;\n",
    "};"
   ]
  }
 ],
 "metadata": {
  "kernelspec": {
   "display_name": "C++11",
   "language": "C++11",
   "name": "xcpp11"
  },
  "language_info": {
   "codemirror_mode": "text/x-c++src",
   "file_extension": ".cpp",
   "mimetype": "text/x-c++src",
   "name": "c++",
   "version": "11"
  }
 },
 "nbformat": 4,
 "nbformat_minor": 4
}
